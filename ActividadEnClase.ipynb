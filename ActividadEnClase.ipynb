{
  "nbformat": 4,
  "nbformat_minor": 0,
  "metadata": {
    "colab": {
      "name": "ActividadEnClase.ipynb",
      "provenance": [],
      "collapsed_sections": []
    },
    "kernelspec": {
      "name": "python3",
      "display_name": "Python 3"
    },
    "language_info": {
      "name": "python"
    }
  },
  "cells": [
    {
      "cell_type": "code",
      "metadata": {
        "id": "ky3s9s6RvR57"
      },
      "source": [
        "class Persona:\n",
        "    def __init__( self , n , e , est):\n",
        "        self.__nombre = n\n",
        "        self.__edad = e\n",
        "        self.__estatura = est\n",
        "\n",
        "    def to_string( self ):\n",
        "        return \"Nombre: \" + self.__nombre + \" Edad: \"+ str(self.__edad) + \" Estatura: \" + str(self.__estatura)\n",
        "\n",
        "    def set_estatura( self , nueva_est ):\n",
        "        if nueva_est > 0.10 and nueva_est < 2.5 :\n",
        "            self.__estatura = nueva_est\n",
        "        else:\n",
        "            print(\"Error: esa estatura no es posible\")\n",
        "    def get_estatura( self ):\n",
        "        return self.__estatura\n"
      ],
      "execution_count": 1,
      "outputs": []
    },
    {
      "cell_type": "code",
      "metadata": {
        "colab": {
          "base_uri": "https://localhost:8080/"
        },
        "id": "Pga8BMyNvdiJ",
        "outputId": "a3451ec8-44de-4518-9818-3556cacf3c58"
      },
      "source": [
        "per = Persona(\"jose\", 19, 1.7)\n",
        "print(per.to_string())\n",
        "\n",
        "# encapsulamiento\n",
        "\n",
        "per.nombre = \"Pedro\" #Esto no se recomienda\n",
        "print(per.to_string())\n",
        "\n",
        "#per.estatura = 3.9\n",
        "per.set_estatura(1.9)\n",
        "print(per.to_string())\n",
        "\n",
        "print (\"Estatura: \" , end=\"\")\n",
        "#print( per._estatura )\n",
        "print( per.get_estatura() )"
      ],
      "execution_count": 2,
      "outputs": [
        {
          "output_type": "stream",
          "name": "stdout",
          "text": [
            "Nombre: jose Edad: 19 Estatura: 1.7\n",
            "Nombre: jose Edad: 19 Estatura: 1.7\n",
            "Nombre: jose Edad: 19 Estatura: 1.9\n",
            "Estatura: 1.9\n"
          ]
        }
      ]
    },
    {
      "cell_type": "code",
      "metadata": {
        "id": "bHX-4tC7vghC"
      },
      "source": [
        "class Estudiante( Persona ):\n",
        "    def __init__( self, no, nombre, edad, est):\n",
        "        self.__num_cta = no\n",
        "        super().__init__(nombre,edad,est)\n",
        "\n",
        "    def to_string( self ):\n",
        "        return str(super().to_string()) + \" Numero de cta: \" + self.__num_cta\n"
      ],
      "execution_count": 3,
      "outputs": []
    },
    {
      "cell_type": "code",
      "metadata": {
        "colab": {
          "base_uri": "https://localhost:8080/"
        },
        "id": "n3Wtej_Fvjji",
        "outputId": "3b753b19-617a-4898-c266-d315ea87a4e0"
      },
      "source": [
        "est = Estudiante( \"12120022\",\"Jose\",18,1.7 )\n",
        "print( est.to_string() )"
      ],
      "execution_count": 4,
      "outputs": [
        {
          "output_type": "stream",
          "name": "stdout",
          "text": [
            "Nombre: Jose Edad: 18 Estatura: 1.7 Numero de cta: 12120022\n"
          ]
        }
      ]
    }
  ]
}